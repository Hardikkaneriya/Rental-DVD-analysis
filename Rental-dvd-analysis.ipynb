{
 "cells": [
  {
   "cell_type": "code",
   "execution_count": 1,
   "metadata": {},
   "outputs": [],
   "source": [
    "import pandas as pd\n",
    "import mysql.connector\n",
    "import sys\n",
    "from mysql.connector import errorcode"
   ]
  },
  {
   "cell_type": "code",
   "execution_count": 2,
   "metadata": {},
   "outputs": [],
   "source": [
    "# create a function to make the connection with mysql database\n",
    "def create_connection(host, user, password, database):\n",
    "\n",
    "    try :\n",
    "        print('connecting to mysql database')\n",
    "        conn = mysql.connector.connect(host=host,user=user, password=password,database=database)\n",
    "\n",
    "    except:\n",
    "        if mysql.connector.Error.errno == errorcode.ER_ACCESS_DENIED_ERROR:\n",
    "            return \"Something is wrong with your user name or password\\n\"\n",
    "        elif mysql.connector.Error.errno == errorcode.ER_BAD_DB_ERROR:\n",
    "            return \"Database does not exist\"\n",
    "        else:\n",
    "            return 'Connection interrupted with this error: '+ mysql.connector.Error\n",
    "\n",
    "        return 'closing the connection'\n",
    "        sys.exit(1)\n",
    "\n",
    "    finally:\n",
    "        try:\n",
    "            if (conn.is_connected()):\n",
    "                print('connection was successful.')\n",
    "                return conn\n",
    "        except AttributeError:\n",
    "            return 'error'"
   ]
  },
  {
   "cell_type": "code",
   "execution_count": 3,
   "metadata": {},
   "outputs": [],
   "source": [
    "# create a function to execute the query in myssql database and fetch the records\n",
    "def fetch_records(con, query):\n",
    "\n",
    "        try:      \n",
    "           cursor = con.cursor()\n",
    "           cursor.execute(query)           \n",
    "           df = pd.DataFrame(cursor.fetchall())\n",
    "           df.columns = cursor.column_names\n",
    "           \n",
    "           return df\n",
    "        except mysql.connector.Error as err:\n",
    "               print(\"Error occured while reading data from MySQL table\", err)\n",
    "        # finally:\n",
    "        #     if (con.is_connected()):\n",
    "        #         cursor.close()\n",
    "        #         con.close()\n",
    "        #         print(\"\\nMySQL connection is closed...\")"
   ]
  },
  {
   "cell_type": "code",
   "execution_count": 4,
   "metadata": {},
   "outputs": [],
   "source": [
    "## SQL queries \n",
    "\n",
    "### customer_id , full name , email ,membership_age ,  revenue , city ###\n",
    "\n",
    "Cust_details= ''' select customer.customer_id , concat(first_name , ' ', last_name) name , \n",
    "          CASE\n",
    "                  WHEN email NOT REGEXP '^[^@]+@[^@]+\\.[^@]{2,}$' THEN 'NA'\n",
    "                  ELSE email\n",
    "          END as valid_email ,\n",
    "              TIMESTAMPDIFF(MONTH, create_date, now()) membership_age ,\n",
    "          revenue ,city.city from customer \n",
    "          left join ( select customer_id , sum(amount) revenue from payment\n",
    "                group by customer_id) a\n",
    "          on customer.customer_id=a.customer_id \n",
    "          inner join address on customer.address_id=address.address_id\n",
    "          inner join  city on city.city_id= address.city_id\n",
    "          order by customer.customer_id; '''\n",
    "\n",
    "### --- top 5 preferred film language ####\n",
    "\n",
    "Query_preferred_lang= ''' select  customer_id , group_concat(film_language) preferred_film_language \n",
    "                          from (SELECT  customer.customer_id , language.name film_language, count(*) ,\n",
    "                                row_number() over(partition by customer.customer_id order by customer_id,count(*) desc) rwn   \n",
    "                                 FROM customer left join rental ON rental.customer_id = customer.customer_id\n",
    "                                 Inner join inventory ON rental.inventory_id = inventory.inventory_id\n",
    "                                 Inner join film ON inventory.film_id = film.film_id\n",
    "                                 Inner join language on film.language_id= language.language_id\n",
    "                                 group by customer.customer_id,language.name\n",
    "                                 order by customer.customer_id , language.name) a\n",
    "                             where a.rwn <=5 \n",
    "                             group by customer_id; '''\n",
    "\n",
    "### -- query to find the top 5 category ####\n",
    "\n",
    "Query_top5_category= ''' select  customer_id , group_concat(name) as Preferred_film_category  \n",
    "                         from (  select customer.customer_id , category.name , count(*) ,\n",
    "                                 row_number() over(partition by customer.customer_id order by customer_id,count(*) desc) rwn from \n",
    "                                 customer left join rental on customer.customer_id= rental.customer_id\n",
    "                                 inner join inventory on inventory.inventory_id=rental.inventory_id\n",
    "                                 Inner join film ON inventory.film_id = film.film_id\n",
    "                                 Inner join film_category on film.film_id= film_category.film_id\n",
    "                                 inner join category on category.category_id=film_category.category_id\n",
    "                                 where category.category_id < 16\n",
    "                                 group by customer.customer_id, category.name) as a\n",
    "                         where a.rwn <=5 \n",
    "                         group by customer_id; '''\n",
    "   \n",
    "   \n",
    "### ----  query to find top 2 preferred film years ####\n",
    "\n",
    "Query_top2_film_years= ''' select customer_id , group_concat(movie_type) preferred_film_year from \n",
    "                        (select customer_id , movie_type , cnt , \n",
    "                        row_number() over(partition by customer_id order by customer_id , cnt desc) rnk from \n",
    "                           (select customer_id, movie_type , count(*) as cnt  from\n",
    "                            (select customer.customer_id ,film.film_id, film.title, film.release_year , \n",
    "                                 CASE\n",
    "                                  WHEN film.release_year > 2010 THEN \"New\"\n",
    "                                  WHEN film.release_year between 2001 and 2010 THEN \"00s\"\n",
    "                                  WHEN film.release_year between 1991 and 2000 THEN \"90s\"\n",
    "                                  ELSE \"old\"\n",
    "                                END as movie_type\n",
    "                                 from \n",
    "                                 customer left join rental on customer.customer_id= rental.customer_id\n",
    "                                 inner join inventory on inventory.inventory_id=rental.inventory_id\n",
    "                                 Inner join film ON inventory.film_id = film.film_id\n",
    "                                 order by customer.customer_id)  a\n",
    "                           group by a.customer_id , movie_type\n",
    "                           order by customer_id) b ) c\n",
    "                               where rnk <=2\n",
    "                               group by customer_id; '''"
   ]
  },
  {
   "cell_type": "code",
   "execution_count": 5,
   "metadata": {},
   "outputs": [
    {
     "name": "stdout",
     "output_type": "stream",
     "text": [
      "connecting to mysql database\n",
      "connection was successful.\n"
     ]
    }
   ],
   "source": [
    "# connect to mysql sakila schema\n",
    "conn= create_connection('localhost','root','HarryPatel','sakila')\n"
   ]
  },
  {
   "cell_type": "code",
   "execution_count": 6,
   "metadata": {},
   "outputs": [],
   "source": [
    "# create dataframe from the query result\n",
    "df_Cust_details= fetch_records(conn,Cust_details)\n",
    "df_preferred_lang= fetch_records(conn,Query_preferred_lang)\n",
    "df_top5_category= fetch_records(conn,Query_top5_category)\n",
    "df_top2_film_years= fetch_records(conn,Query_top2_film_years)"
   ]
  },
  {
   "cell_type": "code",
   "execution_count": 7,
   "metadata": {},
   "outputs": [
    {
     "data": {
      "text/html": [
       "<div>\n",
       "<style scoped>\n",
       "    .dataframe tbody tr th:only-of-type {\n",
       "        vertical-align: middle;\n",
       "    }\n",
       "\n",
       "    .dataframe tbody tr th {\n",
       "        vertical-align: top;\n",
       "    }\n",
       "\n",
       "    .dataframe thead th {\n",
       "        text-align: right;\n",
       "    }\n",
       "</style>\n",
       "<table border=\"1\" class=\"dataframe\">\n",
       "  <thead>\n",
       "    <tr style=\"text-align: right;\">\n",
       "      <th></th>\n",
       "      <th>customer_id</th>\n",
       "      <th>name</th>\n",
       "      <th>valid_email</th>\n",
       "      <th>membership_age</th>\n",
       "      <th>revenue</th>\n",
       "      <th>city</th>\n",
       "    </tr>\n",
       "  </thead>\n",
       "  <tbody>\n",
       "    <tr>\n",
       "      <th>0</th>\n",
       "      <td>1</td>\n",
       "      <td>MARY SMITH</td>\n",
       "      <td>MARY.SMITH@sakilacustomer.org</td>\n",
       "      <td>183</td>\n",
       "      <td>118.68</td>\n",
       "      <td>Sasebo</td>\n",
       "    </tr>\n",
       "    <tr>\n",
       "      <th>1</th>\n",
       "      <td>2</td>\n",
       "      <td>PATRICIA JOHNSON</td>\n",
       "      <td>PATRICIA.JOHNSON@sakilacustomer.org</td>\n",
       "      <td>183</td>\n",
       "      <td>128.73</td>\n",
       "      <td>San Bernardino</td>\n",
       "    </tr>\n",
       "  </tbody>\n",
       "</table>\n",
       "</div>"
      ],
      "text/plain": [
       "   customer_id              name                          valid_email  \\\n",
       "0            1        MARY SMITH        MARY.SMITH@sakilacustomer.org   \n",
       "1            2  PATRICIA JOHNSON  PATRICIA.JOHNSON@sakilacustomer.org   \n",
       "\n",
       "   membership_age revenue            city  \n",
       "0             183  118.68          Sasebo  \n",
       "1             183  128.73  San Bernardino  "
      ]
     },
     "execution_count": 7,
     "metadata": {},
     "output_type": "execute_result"
    }
   ],
   "source": [
    "df_Cust_details.head(2)"
   ]
  },
  {
   "cell_type": "code",
   "execution_count": 8,
   "metadata": {},
   "outputs": [
    {
     "data": {
      "text/html": [
       "<div>\n",
       "<style scoped>\n",
       "    .dataframe tbody tr th:only-of-type {\n",
       "        vertical-align: middle;\n",
       "    }\n",
       "\n",
       "    .dataframe tbody tr th {\n",
       "        vertical-align: top;\n",
       "    }\n",
       "\n",
       "    .dataframe thead th {\n",
       "        text-align: right;\n",
       "    }\n",
       "</style>\n",
       "<table border=\"1\" class=\"dataframe\">\n",
       "  <thead>\n",
       "    <tr style=\"text-align: right;\">\n",
       "      <th></th>\n",
       "      <th>customer_id</th>\n",
       "      <th>preferred_film_language</th>\n",
       "    </tr>\n",
       "  </thead>\n",
       "  <tbody>\n",
       "    <tr>\n",
       "      <th>0</th>\n",
       "      <td>1</td>\n",
       "      <td>English</td>\n",
       "    </tr>\n",
       "    <tr>\n",
       "      <th>1</th>\n",
       "      <td>2</td>\n",
       "      <td>English</td>\n",
       "    </tr>\n",
       "  </tbody>\n",
       "</table>\n",
       "</div>"
      ],
      "text/plain": [
       "   customer_id preferred_film_language\n",
       "0            1                 English\n",
       "1            2                 English"
      ]
     },
     "execution_count": 8,
     "metadata": {},
     "output_type": "execute_result"
    }
   ],
   "source": [
    "df_preferred_lang.head(2)"
   ]
  },
  {
   "cell_type": "code",
   "execution_count": 9,
   "metadata": {},
   "outputs": [
    {
     "data": {
      "text/html": [
       "<div>\n",
       "<style scoped>\n",
       "    .dataframe tbody tr th:only-of-type {\n",
       "        vertical-align: middle;\n",
       "    }\n",
       "\n",
       "    .dataframe tbody tr th {\n",
       "        vertical-align: top;\n",
       "    }\n",
       "\n",
       "    .dataframe thead th {\n",
       "        text-align: right;\n",
       "    }\n",
       "</style>\n",
       "<table border=\"1\" class=\"dataframe\">\n",
       "  <thead>\n",
       "    <tr style=\"text-align: right;\">\n",
       "      <th></th>\n",
       "      <th>customer_id</th>\n",
       "      <th>Preferred_film_category</th>\n",
       "    </tr>\n",
       "  </thead>\n",
       "  <tbody>\n",
       "    <tr>\n",
       "      <th>0</th>\n",
       "      <td>1</td>\n",
       "      <td>Classics,Comedy,Documentary,Sports,Sci-Fi</td>\n",
       "    </tr>\n",
       "    <tr>\n",
       "      <th>1</th>\n",
       "      <td>2</td>\n",
       "      <td>Sports,Classics,Animation,Drama,Family</td>\n",
       "    </tr>\n",
       "  </tbody>\n",
       "</table>\n",
       "</div>"
      ],
      "text/plain": [
       "   customer_id                    Preferred_film_category\n",
       "0            1  Classics,Comedy,Documentary,Sports,Sci-Fi\n",
       "1            2     Sports,Classics,Animation,Drama,Family"
      ]
     },
     "execution_count": 9,
     "metadata": {},
     "output_type": "execute_result"
    }
   ],
   "source": [
    "df_top5_category.head(2)"
   ]
  },
  {
   "cell_type": "code",
   "execution_count": 10,
   "metadata": {},
   "outputs": [
    {
     "data": {
      "text/html": [
       "<div>\n",
       "<style scoped>\n",
       "    .dataframe tbody tr th:only-of-type {\n",
       "        vertical-align: middle;\n",
       "    }\n",
       "\n",
       "    .dataframe tbody tr th {\n",
       "        vertical-align: top;\n",
       "    }\n",
       "\n",
       "    .dataframe thead th {\n",
       "        text-align: right;\n",
       "    }\n",
       "</style>\n",
       "<table border=\"1\" class=\"dataframe\">\n",
       "  <thead>\n",
       "    <tr style=\"text-align: right;\">\n",
       "      <th></th>\n",
       "      <th>customer_id</th>\n",
       "      <th>preferred_film_year</th>\n",
       "    </tr>\n",
       "  </thead>\n",
       "  <tbody>\n",
       "    <tr>\n",
       "      <th>0</th>\n",
       "      <td>1</td>\n",
       "      <td>00s</td>\n",
       "    </tr>\n",
       "    <tr>\n",
       "      <th>1</th>\n",
       "      <td>2</td>\n",
       "      <td>00s</td>\n",
       "    </tr>\n",
       "  </tbody>\n",
       "</table>\n",
       "</div>"
      ],
      "text/plain": [
       "   customer_id preferred_film_year\n",
       "0            1                 00s\n",
       "1            2                 00s"
      ]
     },
     "execution_count": 10,
     "metadata": {},
     "output_type": "execute_result"
    }
   ],
   "source": [
    "df_top2_film_years.head(2)"
   ]
  },
  {
   "cell_type": "code",
   "execution_count": 11,
   "metadata": {},
   "outputs": [
    {
     "name": "stdout",
     "output_type": "stream",
     "text": [
      "(599, 6)\n",
      "(599, 2)\n",
      "(599, 2)\n",
      "(599, 2)\n"
     ]
    }
   ],
   "source": [
    "#check the shape of each dataframe\n",
    "print(df_Cust_details.shape)\n",
    "print(df_preferred_lang.shape)\n",
    "print(df_top5_category.shape)\n",
    "print(df_top2_film_years.shape)"
   ]
  },
  {
   "cell_type": "code",
   "execution_count": 12,
   "metadata": {},
   "outputs": [
    {
     "name": "stdout",
     "output_type": "stream",
     "text": [
      "(599, 9)\n"
     ]
    }
   ],
   "source": [
    "# merge all 4 dataframes into 1\n",
    "df=df_Cust_details.merge(df_preferred_lang,on='customer_id').merge(df_top5_category,on='customer_id').merge(df_top2_film_years, on='customer_id')\n",
    "\n",
    "print(df.shape)"
   ]
  },
  {
   "cell_type": "code",
   "execution_count": 13,
   "metadata": {},
   "outputs": [
    {
     "data": {
      "text/html": [
       "<div>\n",
       "<style scoped>\n",
       "    .dataframe tbody tr th:only-of-type {\n",
       "        vertical-align: middle;\n",
       "    }\n",
       "\n",
       "    .dataframe tbody tr th {\n",
       "        vertical-align: top;\n",
       "    }\n",
       "\n",
       "    .dataframe thead th {\n",
       "        text-align: right;\n",
       "    }\n",
       "</style>\n",
       "<table border=\"1\" class=\"dataframe\">\n",
       "  <thead>\n",
       "    <tr style=\"text-align: right;\">\n",
       "      <th></th>\n",
       "      <th>customer_id</th>\n",
       "      <th>name</th>\n",
       "      <th>valid_email</th>\n",
       "      <th>membership_age</th>\n",
       "      <th>revenue</th>\n",
       "      <th>city</th>\n",
       "      <th>preferred_film_language</th>\n",
       "      <th>Preferred_film_category</th>\n",
       "      <th>preferred_film_year</th>\n",
       "    </tr>\n",
       "  </thead>\n",
       "  <tbody>\n",
       "    <tr>\n",
       "      <th>0</th>\n",
       "      <td>1</td>\n",
       "      <td>MARY SMITH</td>\n",
       "      <td>MARY.SMITH@sakilacustomer.org</td>\n",
       "      <td>183</td>\n",
       "      <td>118.68</td>\n",
       "      <td>Sasebo</td>\n",
       "      <td>English</td>\n",
       "      <td>Classics,Comedy,Documentary,Sports,Sci-Fi</td>\n",
       "      <td>00s</td>\n",
       "    </tr>\n",
       "    <tr>\n",
       "      <th>1</th>\n",
       "      <td>2</td>\n",
       "      <td>PATRICIA JOHNSON</td>\n",
       "      <td>PATRICIA.JOHNSON@sakilacustomer.org</td>\n",
       "      <td>183</td>\n",
       "      <td>128.73</td>\n",
       "      <td>San Bernardino</td>\n",
       "      <td>English</td>\n",
       "      <td>Sports,Classics,Animation,Drama,Family</td>\n",
       "      <td>00s</td>\n",
       "    </tr>\n",
       "    <tr>\n",
       "      <th>2</th>\n",
       "      <td>3</td>\n",
       "      <td>LINDA WILLIAMS</td>\n",
       "      <td>LINDA.WILLIAMS@sakilacustomer.org</td>\n",
       "      <td>183</td>\n",
       "      <td>135.74</td>\n",
       "      <td>Athenai</td>\n",
       "      <td>English</td>\n",
       "      <td>Drama,Animation,Sci-Fi,Music,Sports</td>\n",
       "      <td>00s</td>\n",
       "    </tr>\n",
       "    <tr>\n",
       "      <th>3</th>\n",
       "      <td>4</td>\n",
       "      <td>BARBARA JONES</td>\n",
       "      <td>BARBARA.JONES@sakilacustomer.org</td>\n",
       "      <td>183</td>\n",
       "      <td>81.78</td>\n",
       "      <td>Myingyan</td>\n",
       "      <td>English</td>\n",
       "      <td>Travel,Foreign,Comedy,Sci-Fi,Sports</td>\n",
       "      <td>00s</td>\n",
       "    </tr>\n",
       "    <tr>\n",
       "      <th>4</th>\n",
       "      <td>5</td>\n",
       "      <td>ELIZABETH BROWN</td>\n",
       "      <td>ELIZABETH.BROWN@sakilacustomer.org</td>\n",
       "      <td>183</td>\n",
       "      <td>144.62</td>\n",
       "      <td>Nantou</td>\n",
       "      <td>English</td>\n",
       "      <td>Classics,Animation,Games,Horror,Sports</td>\n",
       "      <td>00s</td>\n",
       "    </tr>\n",
       "  </tbody>\n",
       "</table>\n",
       "</div>"
      ],
      "text/plain": [
       "   customer_id              name                          valid_email  \\\n",
       "0            1        MARY SMITH        MARY.SMITH@sakilacustomer.org   \n",
       "1            2  PATRICIA JOHNSON  PATRICIA.JOHNSON@sakilacustomer.org   \n",
       "2            3    LINDA WILLIAMS    LINDA.WILLIAMS@sakilacustomer.org   \n",
       "3            4     BARBARA JONES     BARBARA.JONES@sakilacustomer.org   \n",
       "4            5   ELIZABETH BROWN   ELIZABETH.BROWN@sakilacustomer.org   \n",
       "\n",
       "   membership_age revenue            city preferred_film_language  \\\n",
       "0             183  118.68          Sasebo                 English   \n",
       "1             183  128.73  San Bernardino                 English   \n",
       "2             183  135.74         Athenai                 English   \n",
       "3             183   81.78        Myingyan                 English   \n",
       "4             183  144.62          Nantou                 English   \n",
       "\n",
       "                     Preferred_film_category preferred_film_year  \n",
       "0  Classics,Comedy,Documentary,Sports,Sci-Fi                 00s  \n",
       "1     Sports,Classics,Animation,Drama,Family                 00s  \n",
       "2        Drama,Animation,Sci-Fi,Music,Sports                 00s  \n",
       "3        Travel,Foreign,Comedy,Sci-Fi,Sports                 00s  \n",
       "4     Classics,Animation,Games,Horror,Sports                 00s  "
      ]
     },
     "execution_count": 13,
     "metadata": {},
     "output_type": "execute_result"
    }
   ],
   "source": [
    "df.head(5)"
   ]
  },
  {
   "cell_type": "markdown",
   "metadata": {},
   "source": [
    "## EDA (Exploratory Data Analysis)\n",
    "\n",
    "#### Find the Top 5 revenue generator customers"
   ]
  },
  {
   "cell_type": "code",
   "execution_count": 23,
   "metadata": {},
   "outputs": [],
   "source": [
    "df_analysis= df.copy()\n",
    "df_analysis.sort_values(by=['revenue'], inplace=True, ascending=False)"
   ]
  },
  {
   "cell_type": "code",
   "execution_count": 26,
   "metadata": {},
   "outputs": [],
   "source": [
    "top_5= df_analysis.iloc[:5,]"
   ]
  },
  {
   "cell_type": "code",
   "execution_count": 27,
   "metadata": {},
   "outputs": [
    {
     "data": {
      "text/html": [
       "<div>\n",
       "<style scoped>\n",
       "    .dataframe tbody tr th:only-of-type {\n",
       "        vertical-align: middle;\n",
       "    }\n",
       "\n",
       "    .dataframe tbody tr th {\n",
       "        vertical-align: top;\n",
       "    }\n",
       "\n",
       "    .dataframe thead th {\n",
       "        text-align: right;\n",
       "    }\n",
       "</style>\n",
       "<table border=\"1\" class=\"dataframe\">\n",
       "  <thead>\n",
       "    <tr style=\"text-align: right;\">\n",
       "      <th></th>\n",
       "      <th>customer_id</th>\n",
       "      <th>name</th>\n",
       "      <th>valid_email</th>\n",
       "      <th>membership_age</th>\n",
       "      <th>revenue</th>\n",
       "      <th>city</th>\n",
       "      <th>preferred_film_language</th>\n",
       "      <th>Preferred_film_category</th>\n",
       "      <th>preferred_film_year</th>\n",
       "    </tr>\n",
       "  </thead>\n",
       "  <tbody>\n",
       "    <tr>\n",
       "      <th>525</th>\n",
       "      <td>526</td>\n",
       "      <td>KARL SEAL</td>\n",
       "      <td>KARL.SEAL@sakilacustomer.org</td>\n",
       "      <td>183</td>\n",
       "      <td>221.55</td>\n",
       "      <td>Cape Coral</td>\n",
       "      <td>English</td>\n",
       "      <td>Animation,Games,Travel,Action,Family</td>\n",
       "      <td>00s</td>\n",
       "    </tr>\n",
       "    <tr>\n",
       "      <th>147</th>\n",
       "      <td>148</td>\n",
       "      <td>ELEANOR HUNT</td>\n",
       "      <td>ELEANOR.HUNT@sakilacustomer.org</td>\n",
       "      <td>183</td>\n",
       "      <td>216.54</td>\n",
       "      <td>Saint-Denis</td>\n",
       "      <td>English</td>\n",
       "      <td>Sci-Fi,Games,Classics,Travel,Foreign</td>\n",
       "      <td>00s</td>\n",
       "    </tr>\n",
       "    <tr>\n",
       "      <th>143</th>\n",
       "      <td>144</td>\n",
       "      <td>CLARA SHAW</td>\n",
       "      <td>CLARA.SHAW@sakilacustomer.org</td>\n",
       "      <td>183</td>\n",
       "      <td>195.58</td>\n",
       "      <td>Molodetno</td>\n",
       "      <td>English</td>\n",
       "      <td>Documentary,Family,Drama,Classics,Comedy</td>\n",
       "      <td>00s</td>\n",
       "    </tr>\n",
       "    <tr>\n",
       "      <th>136</th>\n",
       "      <td>137</td>\n",
       "      <td>RHONDA KENNEDY</td>\n",
       "      <td>RHONDA.KENNEDY@sakilacustomer.org</td>\n",
       "      <td>183</td>\n",
       "      <td>194.61</td>\n",
       "      <td>Apeldoorn</td>\n",
       "      <td>English</td>\n",
       "      <td>Horror,Sports,Comedy,Animation,Travel</td>\n",
       "      <td>00s</td>\n",
       "    </tr>\n",
       "    <tr>\n",
       "      <th>177</th>\n",
       "      <td>178</td>\n",
       "      <td>MARION SNYDER</td>\n",
       "      <td>MARION.SNYDER@sakilacustomer.org</td>\n",
       "      <td>183</td>\n",
       "      <td>194.61</td>\n",
       "      <td>Santa Brbara dOeste</td>\n",
       "      <td>English</td>\n",
       "      <td>Documentary,Foreign,Action,Animation,Sci-Fi</td>\n",
       "      <td>00s</td>\n",
       "    </tr>\n",
       "  </tbody>\n",
       "</table>\n",
       "</div>"
      ],
      "text/plain": [
       "     customer_id            name                        valid_email  \\\n",
       "525          526       KARL SEAL       KARL.SEAL@sakilacustomer.org   \n",
       "147          148    ELEANOR HUNT    ELEANOR.HUNT@sakilacustomer.org   \n",
       "143          144      CLARA SHAW      CLARA.SHAW@sakilacustomer.org   \n",
       "136          137  RHONDA KENNEDY  RHONDA.KENNEDY@sakilacustomer.org   \n",
       "177          178   MARION SNYDER   MARION.SNYDER@sakilacustomer.org   \n",
       "\n",
       "     membership_age revenue                 city preferred_film_language  \\\n",
       "525             183  221.55           Cape Coral                 English   \n",
       "147             183  216.54          Saint-Denis                 English   \n",
       "143             183  195.58            Molodetno                 English   \n",
       "136             183  194.61            Apeldoorn                 English   \n",
       "177             183  194.61  Santa Brbara dOeste                 English   \n",
       "\n",
       "                         Preferred_film_category preferred_film_year  \n",
       "525         Animation,Games,Travel,Action,Family                 00s  \n",
       "147         Sci-Fi,Games,Classics,Travel,Foreign                 00s  \n",
       "143     Documentary,Family,Drama,Classics,Comedy                 00s  \n",
       "136        Horror,Sports,Comedy,Animation,Travel                 00s  \n",
       "177  Documentary,Foreign,Action,Animation,Sci-Fi                 00s  "
      ]
     },
     "execution_count": 27,
     "metadata": {},
     "output_type": "execute_result"
    }
   ],
   "source": [
    "top_5.head()"
   ]
  },
  {
   "cell_type": "code",
   "execution_count": 28,
   "metadata": {},
   "outputs": [],
   "source": [
    "# save original df dataframe to csv file \n",
    "\n",
    "df.to_csv('summit-media-rental-dev.csv')"
   ]
  },
  {
   "cell_type": "code",
   "execution_count": null,
   "metadata": {},
   "outputs": [],
   "source": []
  }
 ],
 "metadata": {
  "kernelspec": {
   "display_name": "Python 3",
   "language": "python",
   "name": "python3"
  },
  "language_info": {
   "codemirror_mode": {
    "name": "ipython",
    "version": 3
   },
   "file_extension": ".py",
   "mimetype": "text/x-python",
   "name": "python",
   "nbconvert_exporter": "python",
   "pygments_lexer": "ipython3",
   "version": "3.7.3"
  }
 },
 "nbformat": 4,
 "nbformat_minor": 2
}
